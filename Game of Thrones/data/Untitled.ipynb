{
 "cells": [
  {
   "cell_type": "code",
   "execution_count": 11,
   "metadata": {},
   "outputs": [
    {
     "name": "stderr",
     "output_type": "stream",
     "text": [
      "Warning message:\n",
      "\"package 'ggraph' was built under R version 3.6.3\""
     ]
    },
    {
     "ename": "ERROR",
     "evalue": "Error: package or namespace load failed for 'ggraph' in loadNamespace(j <- i[[1L]], c(lib.loc, .libPaths()), versionCheck = vI[[j]]):\n namespace 'dplyr' 0.8.0.1 is already loaded, but >= 0.8.5 is required\n",
     "output_type": "error",
     "traceback": [
      "Error: package or namespace load failed for 'ggraph' in loadNamespace(j <- i[[1L]], c(lib.loc, .libPaths()), versionCheck = vI[[j]]):\n namespace 'dplyr' 0.8.0.1 is already loaded, but >= 0.8.5 is required\nTraceback:\n",
      "1. library(ggraph)",
      "2. tryCatch({\n .     attr(package, \"LibPath\") <- which.lib.loc\n .     ns <- loadNamespace(package, lib.loc)\n .     env <- attachNamespace(ns, pos = pos, deps, exclude, include.only)\n . }, error = function(e) {\n .     P <- if (!is.null(cc <- conditionCall(e))) \n .         paste(\" in\", deparse(cc)[1L])\n .     else \"\"\n .     msg <- gettextf(\"package or namespace load failed for %s%s:\\n %s\", \n .         sQuote(package), P, conditionMessage(e))\n .     if (logical.return) \n .         message(paste(\"Error:\", msg), domain = NA)\n .     else stop(msg, call. = FALSE, domain = NA)\n . })",
      "3. tryCatchList(expr, classes, parentenv, handlers)",
      "4. tryCatchOne(expr, names, parentenv, handlers[[1L]])",
      "5. value[[3L]](cond)",
      "6. stop(msg, call. = FALSE, domain = NA)"
     ]
    }
   ],
   "source": [
    "library(tidyverse)\n",
    "library(igraph)\n",
    "library(graphlayouts)\n",
    "library(ggraph)\n",
    "library(extrafont)\n",
    "loadfonts()"
   ]
  },
  {
   "cell_type": "code",
   "execution_count": 10,
   "metadata": {},
   "outputs": [
    {
     "ename": "ERROR",
     "evalue": "Error in loadNamespace(name): there is no package called 'devtools'\n",
     "output_type": "error",
     "traceback": [
      "Error in loadNamespace(name): there is no package called 'devtools'\nTraceback:\n",
      "1. devtools::install_github",
      "2. getExportedValue(pkg, name)",
      "3. asNamespace(ns)",
      "4. getNamespace(ns)",
      "5. loadNamespace(name)",
      "6. withRestarts(stop(cond), retry_loadNamespace = function() NULL)",
      "7. withOneRestart(expr, restarts[[1L]])",
      "8. doWithOneRestart(return(expr), restart)"
     ]
    }
   ],
   "source": [
    "devtools::install_github(\"thomasp85/ggraph\", dependencies=TRUE)"
   ]
  },
  {
   "cell_type": "code",
   "execution_count": 12,
   "metadata": {},
   "outputs": [
    {
     "name": "stderr",
     "output_type": "stream",
     "text": [
      "Installing package into 'C:/Users/Hicham TAZI/Documents/R/win-library/3.6'\n",
      "(as 'lib' is unspecified)\n",
      "also installing the dependency 'tibble'\n",
      "\n",
      "Warning message:\n",
      "\"packages 'tibble', 'dplyr' are in use and will not be installed\""
     ]
    }
   ],
   "source": [
    "install.packages('dplyr')"
   ]
  },
  {
   "cell_type": "code",
   "execution_count": 4,
   "metadata": {},
   "outputs": [
    {
     "name": "stderr",
     "output_type": "stream",
     "text": [
      "Parsed with column specification:\n",
      "cols(\n",
      "  name = col_character(),\n",
      "  sex = col_character(),\n",
      "  house = col_character(),\n",
      "  killedBy = col_character(),\n",
      "  image = col_character()\n",
      ")\n",
      "Parsed with column specification:\n",
      "cols(\n",
      "  episodeTitle = col_character(),\n",
      "  episodeNum = col_double(),\n",
      "  seasonNum = col_double(),\n",
      "  episodeId = col_double(),\n",
      "  total_duration = col_double()\n",
      ")\n",
      "Parsed with column specification:\n",
      "cols(\n",
      "  sceneStart = col_time(format = \"\"),\n",
      "  sceneEnd = col_time(format = \"\"),\n",
      "  location = col_character(),\n",
      "  subLocation = col_character(),\n",
      "  episodeId = col_double(),\n",
      "  duration = col_double(),\n",
      "  nbc = col_double(),\n",
      "  sceneId = col_double(),\n",
      "  nbdeath = col_double()\n",
      ")\n",
      "Parsed with column specification:\n",
      "cols(\n",
      "  name = col_character(),\n",
      "  sceneId = col_double()\n",
      ")\n"
     ]
    }
   ],
   "source": [
    "characters = read_csv(\"characters.csv\")\n",
    "episodes = read_csv(\"episodes.csv\")\n",
    "scenes = read_csv(\"scenes.csv\")\n",
    "appearances = read_csv(\"appearances.csv\")"
   ]
  },
  {
   "cell_type": "code",
   "execution_count": 7,
   "metadata": {},
   "outputs": [
    {
     "data": {
      "text/html": [
       "<table>\n",
       "<thead><tr><th scope=col>sceneStart</th><th scope=col>sceneEnd</th><th scope=col>location</th><th scope=col>subLocation</th><th scope=col>episodeId</th><th scope=col>duration</th><th scope=col>nbc</th><th scope=col>sceneId</th><th scope=col>nbdeath</th></tr></thead>\n",
       "<tbody>\n",
       "\t<tr><td>00:00:40          </td><td>00:01:45          </td><td>The Wall          </td><td>Castle Black      </td><td>1                 </td><td> 65               </td><td>3                 </td><td>1                 </td><td>0                 </td></tr>\n",
       "\t<tr><td>00:01:45          </td><td>00:03:24          </td><td>North of the Wall </td><td>The Haunted Forest</td><td>1                 </td><td> 99               </td><td>3                 </td><td>2                 </td><td>0                 </td></tr>\n",
       "\t<tr><td>00:03:24          </td><td>00:03:31          </td><td>North of the Wall </td><td>The Haunted Forest</td><td>1                 </td><td>  7               </td><td>2                 </td><td>3                 </td><td>1                 </td></tr>\n",
       "\t<tr><td>00:03:31          </td><td>00:03:38          </td><td>North of the Wall </td><td>The Haunted Forest</td><td>1                 </td><td>  7               </td><td>1                 </td><td>4                 </td><td>0                 </td></tr>\n",
       "\t<tr><td>00:03:44          </td><td>00:05:36          </td><td>North of the Wall </td><td>The Haunted Forest</td><td>1                 </td><td>112               </td><td>3                 </td><td>5                 </td><td>0                 </td></tr>\n",
       "\t<tr><td>00:05:36          </td><td>00:05:41          </td><td>North of the Wall </td><td>The Haunted Forest</td><td>1                 </td><td>  5               </td><td>1                 </td><td>6                 </td><td>0                 </td></tr>\n",
       "</tbody>\n",
       "</table>\n"
      ],
      "text/latex": [
       "\\begin{tabular}{r|lllllllll}\n",
       " sceneStart & sceneEnd & location & subLocation & episodeId & duration & nbc & sceneId & nbdeath\\\\\n",
       "\\hline\n",
       "\t 00:00:40           & 00:01:45           & The Wall           & Castle Black       & 1                  &  65                & 3                  & 1                  & 0                 \\\\\n",
       "\t 00:01:45           & 00:03:24           & North of the Wall  & The Haunted Forest & 1                  &  99                & 3                  & 2                  & 0                 \\\\\n",
       "\t 00:03:24           & 00:03:31           & North of the Wall  & The Haunted Forest & 1                  &   7                & 2                  & 3                  & 1                 \\\\\n",
       "\t 00:03:31           & 00:03:38           & North of the Wall  & The Haunted Forest & 1                  &   7                & 1                  & 4                  & 0                 \\\\\n",
       "\t 00:03:44           & 00:05:36           & North of the Wall  & The Haunted Forest & 1                  & 112                & 3                  & 5                  & 0                 \\\\\n",
       "\t 00:05:36           & 00:05:41           & North of the Wall  & The Haunted Forest & 1                  &   5                & 1                  & 6                  & 0                 \\\\\n",
       "\\end{tabular}\n"
      ],
      "text/markdown": [
       "\n",
       "| sceneStart | sceneEnd | location | subLocation | episodeId | duration | nbc | sceneId | nbdeath |\n",
       "|---|---|---|---|---|---|---|---|---|\n",
       "| 00:00:40           | 00:01:45           | The Wall           | Castle Black       | 1                  |  65                | 3                  | 1                  | 0                  |\n",
       "| 00:01:45           | 00:03:24           | North of the Wall  | The Haunted Forest | 1                  |  99                | 3                  | 2                  | 0                  |\n",
       "| 00:03:24           | 00:03:31           | North of the Wall  | The Haunted Forest | 1                  |   7                | 2                  | 3                  | 1                  |\n",
       "| 00:03:31           | 00:03:38           | North of the Wall  | The Haunted Forest | 1                  |   7                | 1                  | 4                  | 0                  |\n",
       "| 00:03:44           | 00:05:36           | North of the Wall  | The Haunted Forest | 1                  | 112                | 3                  | 5                  | 0                  |\n",
       "| 00:05:36           | 00:05:41           | North of the Wall  | The Haunted Forest | 1                  |   5                | 1                  | 6                  | 0                  |\n",
       "\n"
      ],
      "text/plain": [
       "  sceneStart sceneEnd location          subLocation        episodeId duration\n",
       "1 00:00:40   00:01:45 The Wall          Castle Black       1          65     \n",
       "2 00:01:45   00:03:24 North of the Wall The Haunted Forest 1          99     \n",
       "3 00:03:24   00:03:31 North of the Wall The Haunted Forest 1           7     \n",
       "4 00:03:31   00:03:38 North of the Wall The Haunted Forest 1           7     \n",
       "5 00:03:44   00:05:36 North of the Wall The Haunted Forest 1         112     \n",
       "6 00:05:36   00:05:41 North of the Wall The Haunted Forest 1           5     \n",
       "  nbc sceneId nbdeath\n",
       "1 3   1       0      \n",
       "2 3   2       0      \n",
       "3 2   3       1      \n",
       "4 1   4       0      \n",
       "5 3   5       0      \n",
       "6 1   6       0      "
      ]
     },
     "metadata": {},
     "output_type": "display_data"
    },
    {
     "data": {
      "text/html": [
       "<table>\n",
       "<thead><tr><th scope=col>episodeTitle</th><th scope=col>episodeNum</th><th scope=col>seasonNum</th><th scope=col>episodeId</th><th scope=col>total_duration</th></tr></thead>\n",
       "<tbody>\n",
       "\t<tr><td>Winter Is Coming                     </td><td>1                                    </td><td>1                                    </td><td>1                                    </td><td>3509                                 </td></tr>\n",
       "\t<tr><td>The Kingsroad                        </td><td>2                                    </td><td>1                                    </td><td>2                                    </td><td>3142                                 </td></tr>\n",
       "\t<tr><td>Lord Snow                            </td><td>3                                    </td><td>1                                    </td><td>3                                    </td><td>3257                                 </td></tr>\n",
       "\t<tr><td>Cripples, Bastards, and Broken Things</td><td>4                                    </td><td>1                                    </td><td>4                                    </td><td>3164                                 </td></tr>\n",
       "\t<tr><td>The Wolf and the Lion                </td><td>5                                    </td><td>1                                    </td><td>5                                    </td><td>3073                                 </td></tr>\n",
       "\t<tr><td>A Golden Crown                       </td><td>6                                    </td><td>1                                    </td><td>6                                    </td><td>2977                                 </td></tr>\n",
       "</tbody>\n",
       "</table>\n"
      ],
      "text/latex": [
       "\\begin{tabular}{r|lllll}\n",
       " episodeTitle & episodeNum & seasonNum & episodeId & total\\_duration\\\\\n",
       "\\hline\n",
       "\t Winter Is Coming                      & 1                                     & 1                                     & 1                                     & 3509                                 \\\\\n",
       "\t The Kingsroad                         & 2                                     & 1                                     & 2                                     & 3142                                 \\\\\n",
       "\t Lord Snow                             & 3                                     & 1                                     & 3                                     & 3257                                 \\\\\n",
       "\t Cripples, Bastards, and Broken Things & 4                                     & 1                                     & 4                                     & 3164                                 \\\\\n",
       "\t The Wolf and the Lion                 & 5                                     & 1                                     & 5                                     & 3073                                 \\\\\n",
       "\t A Golden Crown                        & 6                                     & 1                                     & 6                                     & 2977                                 \\\\\n",
       "\\end{tabular}\n"
      ],
      "text/markdown": [
       "\n",
       "| episodeTitle | episodeNum | seasonNum | episodeId | total_duration |\n",
       "|---|---|---|---|---|\n",
       "| Winter Is Coming                      | 1                                     | 1                                     | 1                                     | 3509                                  |\n",
       "| The Kingsroad                         | 2                                     | 1                                     | 2                                     | 3142                                  |\n",
       "| Lord Snow                             | 3                                     | 1                                     | 3                                     | 3257                                  |\n",
       "| Cripples, Bastards, and Broken Things | 4                                     | 1                                     | 4                                     | 3164                                  |\n",
       "| The Wolf and the Lion                 | 5                                     | 1                                     | 5                                     | 3073                                  |\n",
       "| A Golden Crown                        | 6                                     | 1                                     | 6                                     | 2977                                  |\n",
       "\n"
      ],
      "text/plain": [
       "  episodeTitle                          episodeNum seasonNum episodeId\n",
       "1 Winter Is Coming                      1          1         1        \n",
       "2 The Kingsroad                         2          1         2        \n",
       "3 Lord Snow                             3          1         3        \n",
       "4 Cripples, Bastards, and Broken Things 4          1         4        \n",
       "5 The Wolf and the Lion                 5          1         5        \n",
       "6 A Golden Crown                        6          1         6        \n",
       "  total_duration\n",
       "1 3509          \n",
       "2 3142          \n",
       "3 3257          \n",
       "4 3164          \n",
       "5 3073          \n",
       "6 2977          "
      ]
     },
     "metadata": {},
     "output_type": "display_data"
    },
    {
     "data": {
      "text/html": [
       "<table>\n",
       "<thead><tr><th scope=col>name</th><th scope=col>sex</th><th scope=col>house</th><th scope=col>killedBy</th><th scope=col>image</th></tr></thead>\n",
       "<tbody>\n",
       "\t<tr><td>Addam Marbrand                                                                                                                                         </td><td>male                                                                                                                                                   </td><td>NA                                                                                                                                                     </td><td>NA                                                                                                                                                     </td><td>NA                                                                                                                                                     </td></tr>\n",
       "\t<tr><td>Adrack Humble                                                                                                                                          </td><td>male                                                                                                                                                   </td><td>NA                                                                                                                                                     </td><td>NA                                                                                                                                                     </td><td>NA                                                                                                                                                     </td></tr>\n",
       "\t<tr><td>Aeron Greyjoy                                                                                                                                          </td><td>male                                                                                                                                                   </td><td>Greyjoy                                                                                                                                                </td><td>NA                                                                                                                                                     </td><td>https://images-na.ssl-images-amazon.com/images/M/MV5BNzI5MDg0ZDAtN2Y2ZC00MzU1LTgyYjQtNTBjYjEzODczZDVhXkEyXkFqcGdeQXVyNTg0Nzg4NTE@._V1._SX100_SY140_.jpg</td></tr>\n",
       "\t<tr><td>Aerys Targaryen                                                                                                                                        </td><td>male                                                                                                                                                   </td><td>NA                                                                                                                                                     </td><td>NA                                                                                                                                                     </td><td>NA                                                                                                                                                     </td></tr>\n",
       "\t<tr><td>Aggo                                                                                                                                                   </td><td>male                                                                                                                                                   </td><td>NA                                                                                                                                                     </td><td>NA                                                                                                                                                     </td><td>NA                                                                                                                                                     </td></tr>\n",
       "\t<tr><td>Akho                                                                                                                                                   </td><td>male                                                                                                                                                   </td><td>NA                                                                                                                                                     </td><td>Daario Naharis                                                                                                                                         </td><td>https://images-na.ssl-images-amazon.com/images/M/MV5BOGE4ZDZmOGUtNGE4Ny00Y2VmLThiOGItMjk3Y2U0ZDY3OWQxXkEyXkFqcGdeQXVyMjk3NTUyOTc@._V1._SX100_SY140_.jpg</td></tr>\n",
       "</tbody>\n",
       "</table>\n"
      ],
      "text/latex": [
       "\\begin{tabular}{r|lllll}\n",
       " name & sex & house & killedBy & image\\\\\n",
       "\\hline\n",
       "\t Addam Marbrand                                                                                                                                          & male                                                                                                                                                    & NA                                                                                                                                                      & NA                                                                                                                                                      & NA                                                                                                                                                     \\\\\n",
       "\t Adrack Humble                                                                                                                                           & male                                                                                                                                                    & NA                                                                                                                                                      & NA                                                                                                                                                      & NA                                                                                                                                                     \\\\\n",
       "\t Aeron Greyjoy                                                                                                                                                   & male                                                                                                                                                            & Greyjoy                                                                                                                                                         & NA                                                                                                                                                              & https://images-na.ssl-images-amazon.com/images/M/MV5BNzI5MDg0ZDAtN2Y2ZC00MzU1LTgyYjQtNTBjYjEzODczZDVhXkEyXkFqcGdeQXVyNTg0Nzg4NTE@.\\_V1.\\_SX100\\_SY140\\_.jpg\\\\\n",
       "\t Aerys Targaryen                                                                                                                                         & male                                                                                                                                                    & NA                                                                                                                                                      & NA                                                                                                                                                      & NA                                                                                                                                                     \\\\\n",
       "\t Aggo                                                                                                                                                    & male                                                                                                                                                    & NA                                                                                                                                                      & NA                                                                                                                                                      & NA                                                                                                                                                     \\\\\n",
       "\t Akho                                                                                                                                                            & male                                                                                                                                                            & NA                                                                                                                                                              & Daario Naharis                                                                                                                                                  & https://images-na.ssl-images-amazon.com/images/M/MV5BOGE4ZDZmOGUtNGE4Ny00Y2VmLThiOGItMjk3Y2U0ZDY3OWQxXkEyXkFqcGdeQXVyMjk3NTUyOTc@.\\_V1.\\_SX100\\_SY140\\_.jpg\\\\\n",
       "\\end{tabular}\n"
      ],
      "text/markdown": [
       "\n",
       "| name | sex | house | killedBy | image |\n",
       "|---|---|---|---|---|\n",
       "| Addam Marbrand                                                                                                                                          | male                                                                                                                                                    | NA                                                                                                                                                      | NA                                                                                                                                                      | NA                                                                                                                                                      |\n",
       "| Adrack Humble                                                                                                                                           | male                                                                                                                                                    | NA                                                                                                                                                      | NA                                                                                                                                                      | NA                                                                                                                                                      |\n",
       "| Aeron Greyjoy                                                                                                                                           | male                                                                                                                                                    | Greyjoy                                                                                                                                                 | NA                                                                                                                                                      | https://images-na.ssl-images-amazon.com/images/M/MV5BNzI5MDg0ZDAtN2Y2ZC00MzU1LTgyYjQtNTBjYjEzODczZDVhXkEyXkFqcGdeQXVyNTg0Nzg4NTE@._V1._SX100_SY140_.jpg |\n",
       "| Aerys Targaryen                                                                                                                                         | male                                                                                                                                                    | NA                                                                                                                                                      | NA                                                                                                                                                      | NA                                                                                                                                                      |\n",
       "| Aggo                                                                                                                                                    | male                                                                                                                                                    | NA                                                                                                                                                      | NA                                                                                                                                                      | NA                                                                                                                                                      |\n",
       "| Akho                                                                                                                                                    | male                                                                                                                                                    | NA                                                                                                                                                      | Daario Naharis                                                                                                                                          | https://images-na.ssl-images-amazon.com/images/M/MV5BOGE4ZDZmOGUtNGE4Ny00Y2VmLThiOGItMjk3Y2U0ZDY3OWQxXkEyXkFqcGdeQXVyMjk3NTUyOTc@._V1._SX100_SY140_.jpg |\n",
       "\n"
      ],
      "text/plain": [
       "  name            sex  house   killedBy      \n",
       "1 Addam Marbrand  male NA      NA            \n",
       "2 Adrack Humble   male NA      NA            \n",
       "3 Aeron Greyjoy   male Greyjoy NA            \n",
       "4 Aerys Targaryen male NA      NA            \n",
       "5 Aggo            male NA      NA            \n",
       "6 Akho            male NA      Daario Naharis\n",
       "  image                                                                                                                                                  \n",
       "1 NA                                                                                                                                                     \n",
       "2 NA                                                                                                                                                     \n",
       "3 https://images-na.ssl-images-amazon.com/images/M/MV5BNzI5MDg0ZDAtN2Y2ZC00MzU1LTgyYjQtNTBjYjEzODczZDVhXkEyXkFqcGdeQXVyNTg0Nzg4NTE@._V1._SX100_SY140_.jpg\n",
       "4 NA                                                                                                                                                     \n",
       "5 NA                                                                                                                                                     \n",
       "6 https://images-na.ssl-images-amazon.com/images/M/MV5BOGE4ZDZmOGUtNGE4Ny00Y2VmLThiOGItMjk3Y2U0ZDY3OWQxXkEyXkFqcGdeQXVyMjk3NTUyOTc@._V1._SX100_SY140_.jpg"
      ]
     },
     "metadata": {},
     "output_type": "display_data"
    }
   ],
   "source": [
    "head(scenes)\n",
    "head(episodes)\n",
    "head(characters)"
   ]
  },
  {
   "cell_type": "code",
   "execution_count": null,
   "metadata": {},
   "outputs": [],
   "source": []
  }
 ],
 "metadata": {
  "kernelspec": {
   "display_name": "R",
   "language": "R",
   "name": "ir"
  },
  "language_info": {
   "codemirror_mode": "r",
   "file_extension": ".r",
   "mimetype": "text/x-r-source",
   "name": "R",
   "pygments_lexer": "r",
   "version": "3.6.1"
  }
 },
 "nbformat": 4,
 "nbformat_minor": 4
}
